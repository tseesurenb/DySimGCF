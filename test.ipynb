{
 "cells": [
  {
   "cell_type": "code",
   "execution_count": null,
   "metadata": {},
   "outputs": [],
   "source": []
  },
  {
   "cell_type": "code",
   "execution_count": null,
   "metadata": {},
   "outputs": [
    {
     "name": "stdout",
     "output_type": "stream",
     "text": [
      "(403277, 2)\n",
      "(57532, 2)\n",
      "(110722, 2)\n",
      "[[0 0]\n",
      " [0 1]\n",
      " [0 2]\n",
      " [0 3]\n",
      " [0 4]\n",
      " [0 5]\n",
      " [0 6]\n",
      " [0 7]\n",
      " [0 8]\n",
      " [0 9]]\n"
     ]
    }
   ],
   "source": [
    "# load data from diff_data folder where ml-1m folder containes train_list.npy, test_list.npy, ratings.csv\n",
    "\n",
    "import pandas as pd \n",
    "import numpy as np\n",
    "\n",
    "# load npy files\n",
    "train_list = np.load('diff_data/ml_1m/train_list.npy')\n",
    "test_list = np.load('diff_data/ml_1m/test_list.npy')\n",
    "val_list = np.load('diff_data/ml_1m/valid_list.npy')\n",
    "\n",
    "train_n, train_m = train_list.shape\n",
    "test_n, test_m = test_list.shape\n",
    "val_n, val_m = val_list.shape\n",
    "\n",
    "print(f\"all n: {train_n + test_n + val_n}\")\n",
    "print(train_list.shape)\n",
    "print(test_list.shape)\n",
    "print(val_list.shape)\n",
    "# print first 10 rows of train_list\n",
    "print(train_list[:10])"
   ]
  },
  {
   "cell_type": "code",
   "execution_count": 5,
   "metadata": {},
   "outputs": [
    {
     "data": {
      "application/vnd.microsoft.datawrangler.viewer.v0+json": {
       "columns": [
        {
         "name": "index",
         "rawType": "int64",
         "type": "integer"
        },
        {
         "name": "196\t242\t3\t881250949",
         "rawType": "object",
         "type": "string"
        }
       ],
       "conversionMethod": "pd.DataFrame",
       "ref": "96ff26d4-29d8-4646-998d-57bbc0dbde11",
       "rows": [
        [
         "0",
         "186\t302\t3\t891717742"
        ],
        [
         "1",
         "22\t377\t1\t878887116"
        ],
        [
         "2",
         "244\t51\t2\t880606923"
        ],
        [
         "3",
         "166\t346\t1\t886397596"
        ],
        [
         "4",
         "298\t474\t4\t884182806"
        ]
       ],
       "shape": {
        "columns": 1,
        "rows": 5
       }
      },
      "text/html": [
       "<div>\n",
       "<style scoped>\n",
       "    .dataframe tbody tr th:only-of-type {\n",
       "        vertical-align: middle;\n",
       "    }\n",
       "\n",
       "    .dataframe tbody tr th {\n",
       "        vertical-align: top;\n",
       "    }\n",
       "\n",
       "    .dataframe thead th {\n",
       "        text-align: right;\n",
       "    }\n",
       "</style>\n",
       "<table border=\"1\" class=\"dataframe\">\n",
       "  <thead>\n",
       "    <tr style=\"text-align: right;\">\n",
       "      <th></th>\n",
       "      <th>196\\t242\\t3\\t881250949</th>\n",
       "    </tr>\n",
       "  </thead>\n",
       "  <tbody>\n",
       "    <tr>\n",
       "      <th>0</th>\n",
       "      <td>186\\t302\\t3\\t891717742</td>\n",
       "    </tr>\n",
       "    <tr>\n",
       "      <th>1</th>\n",
       "      <td>22\\t377\\t1\\t878887116</td>\n",
       "    </tr>\n",
       "    <tr>\n",
       "      <th>2</th>\n",
       "      <td>244\\t51\\t2\\t880606923</td>\n",
       "    </tr>\n",
       "    <tr>\n",
       "      <th>3</th>\n",
       "      <td>166\\t346\\t1\\t886397596</td>\n",
       "    </tr>\n",
       "    <tr>\n",
       "      <th>4</th>\n",
       "      <td>298\\t474\\t4\\t884182806</td>\n",
       "    </tr>\n",
       "  </tbody>\n",
       "</table>\n",
       "</div>"
      ],
      "text/plain": [
       "   196\\t242\\t3\\t881250949\n",
       "0  186\\t302\\t3\\t891717742\n",
       "1   22\\t377\\t1\\t878887116\n",
       "2   244\\t51\\t2\\t880606923\n",
       "3  166\\t346\\t1\\t886397596\n",
       "4  298\\t474\\t4\\t884182806"
      ]
     },
     "execution_count": 5,
     "metadata": {},
     "output_type": "execute_result"
    }
   ],
   "source": [
    "df = pd.read_csv('data/ml-100k/u.data')\n",
    "df.head()"
   ]
  },
  {
   "cell_type": "code",
   "execution_count": null,
   "metadata": {},
   "outputs": [],
   "source": []
  }
 ],
 "metadata": {
  "kernelspec": {
   "display_name": "mlcds_env",
   "language": "python",
   "name": "python3"
  },
  "language_info": {
   "codemirror_mode": {
    "name": "ipython",
    "version": 3
   },
   "file_extension": ".py",
   "mimetype": "text/x-python",
   "name": "python",
   "nbconvert_exporter": "python",
   "pygments_lexer": "ipython3",
   "version": "3.10.16"
  }
 },
 "nbformat": 4,
 "nbformat_minor": 2
}
