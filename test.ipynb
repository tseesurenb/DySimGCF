{
 "cells": [
  {
   "cell_type": "code",
   "execution_count": null,
   "metadata": {},
   "outputs": [],
   "source": []
  },
  {
   "cell_type": "code",
   "execution_count": 11,
   "metadata": {},
   "outputs": [
    {
     "name": "stdout",
     "output_type": "stream",
     "text": [
      "all n: 571531\n"
     ]
    }
   ],
   "source": [
    "# load data from diff_data folder where ml-1m folder containes train_list.npy, test_list.npy, ratings.csv\n",
    "\n",
    "import pandas as pd \n",
    "import numpy as np\n",
    "\n",
    "# load npy files\n",
    "train_list = np.load('diff_data/ml_1m/train_list.npy')\n",
    "test_list = np.load('diff_data/ml_1m/test_list.npy')\n",
    "val_list = np.load('diff_data/ml_1m/valid_list.npy')\n",
    "\n",
    "train_n, train_m = train_list.shape\n",
    "test_n, test_m = test_list.shape\n",
    "val_n, val_m = val_list.shape\n",
    "\n",
    "print(f\"all n: {train_n + test_n + val_n}\")"
   ]
  },
  {
   "cell_type": "code",
   "execution_count": null,
   "metadata": {},
   "outputs": [],
   "source": []
  }
 ],
 "metadata": {
  "kernelspec": {
   "display_name": "mlcds_env",
   "language": "python",
   "name": "python3"
  },
  "language_info": {
   "codemirror_mode": {
    "name": "ipython",
    "version": 3
   },
   "file_extension": ".py",
   "mimetype": "text/x-python",
   "name": "python",
   "nbconvert_exporter": "python",
   "pygments_lexer": "ipython3",
   "version": "3.10.16"
  }
 },
 "nbformat": 4,
 "nbformat_minor": 2
}
